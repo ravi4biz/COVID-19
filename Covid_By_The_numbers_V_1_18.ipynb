{
  "nbformat": 4,
  "nbformat_minor": 0,
  "metadata": {
    "colab": {
      "name": "Copy of Covid_By_The_numbers.ipynb",
      "provenance": [],
      "collapsed_sections": [],
      "include_colab_link": true
    },
    "kernelspec": {
      "name": "python3",
      "display_name": "Python 3"
    }
  },
  "cells": [
    {
      "cell_type": "markdown",
      "metadata": {
        "id": "view-in-github",
        "colab_type": "text"
      },
      "source": [
        "<a href=\"https://colab.research.google.com/github/ravi4biz/COVID-19/blob/master/Copy_of_Covid_By_The_numbers_V_1_18.ipynb\" target=\"_parent\"><img src=\"https://colab.research.google.com/assets/colab-badge.svg\" alt=\"Open In Colab\"/></a>"
      ]
    },
    {
      "cell_type": "code",
      "metadata": {
        "id": "g_6AFkmD5Orq",
        "colab": {
          "base_uri": "https://localhost:8080/"
        },
        "outputId": "35ae0173-88fe-42f6-d8d5-bf97a8660f0f"
      },
      "source": [
        "# Installs\n",
        "!pip install pycountry_convert \n",
        "!pip install folium\n",
        "!pip install calmap"
      ],
      "execution_count": 1,
      "outputs": [
        {
          "output_type": "stream",
          "text": [
            "Collecting pycountry_convert\n",
            "  Downloading https://files.pythonhosted.org/packages/9b/e7/26c14899a43c34e04a58e3772007afe79dbd64fac15d2fbaeedff24082f2/pycountry_convert-0.7.2-py3-none-any.whl\n",
            "Collecting pytest-mock>=1.6.3\n",
            "  Downloading https://files.pythonhosted.org/packages/1d/ba/8bf763e2f300c1eba8f07506efd87a3c1c346e751d4dc618c444924b7c22/pytest_mock-3.5.1-py3-none-any.whl\n",
            "Collecting pycountry>=16.11.27.1\n",
            "\u001b[?25l  Downloading https://files.pythonhosted.org/packages/76/73/6f1a412f14f68c273feea29a6ea9b9f1e268177d32e0e69ad6790d306312/pycountry-20.7.3.tar.gz (10.1MB)\n",
            "\u001b[K     |████████████████████████████████| 10.1MB 3.9MB/s \n",
            "\u001b[?25hRequirement already satisfied: wheel>=0.30.0 in /usr/local/lib/python3.6/dist-packages (from pycountry_convert) (0.36.2)\n",
            "Collecting pytest-cov>=2.5.1\n",
            "  Downloading https://files.pythonhosted.org/packages/3f/12/d5089675aa7955c9b7e8b831184b2b13ccece146c5b23250b0102a0d76e2/pytest_cov-2.11.0-py2.py3-none-any.whl\n",
            "Collecting repoze.lru>=0.7\n",
            "  Downloading https://files.pythonhosted.org/packages/b0/30/6cc0c95f0b59ad4b3b9163bff7cdcf793cc96fac64cf398ff26271f5cf5e/repoze.lru-0.7-py3-none-any.whl\n",
            "Requirement already satisfied: pytest>=3.4.0 in /usr/local/lib/python3.6/dist-packages (from pycountry_convert) (3.6.4)\n",
            "Collecting pprintpp>=0.3.0\n",
            "  Downloading https://files.pythonhosted.org/packages/4e/d1/e4ed95fdd3ef13b78630280d9e9e240aeb65cc7c544ec57106149c3942fb/pprintpp-0.4.0-py2.py3-none-any.whl\n",
            "Collecting coverage>=5.2.1\n",
            "\u001b[?25l  Downloading https://files.pythonhosted.org/packages/76/43/421d81716e0379e886f9642354481c3e30d84fb2c1e9aceb3ee3d369422b/coverage-5.3.1-cp36-cp36m-manylinux2010_x86_64.whl (241kB)\n",
            "\u001b[K     |████████████████████████████████| 245kB 45.0MB/s \n",
            "\u001b[?25hRequirement already satisfied: more-itertools>=4.0.0 in /usr/local/lib/python3.6/dist-packages (from pytest>=3.4.0->pycountry_convert) (8.6.0)\n",
            "Requirement already satisfied: atomicwrites>=1.0 in /usr/local/lib/python3.6/dist-packages (from pytest>=3.4.0->pycountry_convert) (1.4.0)\n",
            "Requirement already satisfied: pluggy<0.8,>=0.5 in /usr/local/lib/python3.6/dist-packages (from pytest>=3.4.0->pycountry_convert) (0.7.1)\n",
            "Requirement already satisfied: attrs>=17.4.0 in /usr/local/lib/python3.6/dist-packages (from pytest>=3.4.0->pycountry_convert) (20.3.0)\n",
            "Requirement already satisfied: setuptools in /usr/local/lib/python3.6/dist-packages (from pytest>=3.4.0->pycountry_convert) (51.1.1)\n",
            "Requirement already satisfied: py>=1.5.0 in /usr/local/lib/python3.6/dist-packages (from pytest>=3.4.0->pycountry_convert) (1.10.0)\n",
            "Requirement already satisfied: six>=1.10.0 in /usr/local/lib/python3.6/dist-packages (from pytest>=3.4.0->pycountry_convert) (1.15.0)\n",
            "Building wheels for collected packages: pycountry\n",
            "  Building wheel for pycountry (setup.py) ... \u001b[?25l\u001b[?25hdone\n",
            "  Created wheel for pycountry: filename=pycountry-20.7.3-py2.py3-none-any.whl size=10746863 sha256=26a5ad52ad54e89f4cc7f45ab0d5df154338be330a1fc964f1f079658f079f7d\n",
            "  Stored in directory: /root/.cache/pip/wheels/33/4e/a6/be297e6b83567e537bed9df4a93f8590ec01c1acfbcd405348\n",
            "Successfully built pycountry\n",
            "\u001b[31mERROR: datascience 0.10.6 has requirement coverage==3.7.1, but you'll have coverage 5.3.1 which is incompatible.\u001b[0m\n",
            "\u001b[31mERROR: datascience 0.10.6 has requirement folium==0.2.1, but you'll have folium 0.8.3 which is incompatible.\u001b[0m\n",
            "\u001b[31mERROR: coveralls 0.5 has requirement coverage<3.999,>=3.6, but you'll have coverage 5.3.1 which is incompatible.\u001b[0m\n",
            "\u001b[31mERROR: pytest-mock 3.5.1 has requirement pytest>=5.0, but you'll have pytest 3.6.4 which is incompatible.\u001b[0m\n",
            "\u001b[31mERROR: pytest-cov 2.11.0 has requirement pytest>=4.6, but you'll have pytest 3.6.4 which is incompatible.\u001b[0m\n",
            "Installing collected packages: pytest-mock, pycountry, coverage, pytest-cov, repoze.lru, pprintpp, pycountry-convert\n",
            "  Found existing installation: coverage 3.7.1\n",
            "    Uninstalling coverage-3.7.1:\n",
            "      Successfully uninstalled coverage-3.7.1\n",
            "Successfully installed coverage-5.3.1 pprintpp-0.4.0 pycountry-20.7.3 pycountry-convert-0.7.2 pytest-cov-2.11.0 pytest-mock-3.5.1 repoze.lru-0.7\n",
            "Requirement already satisfied: folium in /usr/local/lib/python3.6/dist-packages (0.8.3)\n",
            "Requirement already satisfied: numpy in /usr/local/lib/python3.6/dist-packages (from folium) (1.19.5)\n",
            "Requirement already satisfied: requests in /usr/local/lib/python3.6/dist-packages (from folium) (2.23.0)\n",
            "Requirement already satisfied: six in /usr/local/lib/python3.6/dist-packages (from folium) (1.15.0)\n",
            "Requirement already satisfied: branca>=0.3.0 in /usr/local/lib/python3.6/dist-packages (from folium) (0.4.2)\n",
            "Requirement already satisfied: jinja2 in /usr/local/lib/python3.6/dist-packages (from folium) (2.11.2)\n",
            "Requirement already satisfied: certifi>=2017.4.17 in /usr/local/lib/python3.6/dist-packages (from requests->folium) (2020.12.5)\n",
            "Requirement already satisfied: chardet<4,>=3.0.2 in /usr/local/lib/python3.6/dist-packages (from requests->folium) (3.0.4)\n",
            "Requirement already satisfied: idna<3,>=2.5 in /usr/local/lib/python3.6/dist-packages (from requests->folium) (2.10)\n",
            "Requirement already satisfied: urllib3!=1.25.0,!=1.25.1,<1.26,>=1.21.1 in /usr/local/lib/python3.6/dist-packages (from requests->folium) (1.24.3)\n",
            "Requirement already satisfied: MarkupSafe>=0.23 in /usr/local/lib/python3.6/dist-packages (from jinja2->folium) (1.1.1)\n",
            "Collecting calmap\n",
            "  Downloading https://files.pythonhosted.org/packages/2d/c5/32c8f6b1d9eaa143fd7e00d5d131cd701c28b4f67ab20f06d214e3eba1be/calmap-0.0.8-py2.py3-none-any.whl\n",
            "Requirement already satisfied: numpy in /usr/local/lib/python3.6/dist-packages (from calmap) (1.19.5)\n",
            "Requirement already satisfied: matplotlib in /usr/local/lib/python3.6/dist-packages (from calmap) (3.2.2)\n",
            "Requirement already satisfied: pandas in /usr/local/lib/python3.6/dist-packages (from calmap) (1.1.5)\n",
            "Requirement already satisfied: python-dateutil>=2.1 in /usr/local/lib/python3.6/dist-packages (from matplotlib->calmap) (2.8.1)\n",
            "Requirement already satisfied: pyparsing!=2.0.4,!=2.1.2,!=2.1.6,>=2.0.1 in /usr/local/lib/python3.6/dist-packages (from matplotlib->calmap) (2.4.7)\n",
            "Requirement already satisfied: cycler>=0.10 in /usr/local/lib/python3.6/dist-packages (from matplotlib->calmap) (0.10.0)\n",
            "Requirement already satisfied: kiwisolver>=1.0.1 in /usr/local/lib/python3.6/dist-packages (from matplotlib->calmap) (1.3.1)\n",
            "Requirement already satisfied: pytz>=2017.2 in /usr/local/lib/python3.6/dist-packages (from pandas->calmap) (2018.9)\n",
            "Requirement already satisfied: six>=1.5 in /usr/local/lib/python3.6/dist-packages (from python-dateutil>=2.1->matplotlib->calmap) (1.15.0)\n",
            "Installing collected packages: calmap\n",
            "Successfully installed calmap-0.0.8\n"
          ],
          "name": "stdout"
        }
      ]
    },
    {
      "cell_type": "code",
      "metadata": {
        "id": "6MGx7vu05ain"
      },
      "source": [
        "import pandas as pd\n",
        "import numpy as np\n",
        "import matplotlib.pyplot as plt\n",
        "from matplotlib import ticker \n",
        "import pycountry_convert as pc\n",
        "import folium\n",
        "import branca\n",
        "from datetime import datetime, timedelta,date\n",
        "from scipy.interpolate import make_interp_spline, BSpline\n",
        "import plotly.express as px\n",
        "import json, requests\n",
        "import calmap\n",
        "import seaborn as sns\n",
        "\n",
        "import seaborn as sns\n",
        "import warnings\n",
        "warnings.filterwarnings('ignore')"
      ],
      "execution_count": 2,
      "outputs": []
    },
    {
      "cell_type": "markdown",
      "metadata": {
        "id": "H9H_Ku86sZtS"
      },
      "source": [
        "Cases and Death counts include confirmed and probable (where reported).\r\n",
        "Recovered cases are estimates based on local media reports, and state and local reporting when available, and therefore may be substantially lower than the true number. US state-level recovered cases are from COVID Tracking Project.\r\n",
        "\r\n",
        "Active cases = total cases - total recovered - total deaths.\r\n",
        "\r\n",
        "Incidence Rate = cases per 100,000 persons.\r\n",
        "\r\n",
        "Case-Fatality Ratio (%) = Number recorded deaths / Number cases.\r\n",
        "\r\n"
      ]
    },
    {
      "cell_type": "code",
      "metadata": {
        "id": "KPnCzbIT5l70"
      },
      "source": [
        "# Retriving Dataset \n",
        "# The data id from \"COVID-19 Data Repository by the Center for Systems Science and Engineering (CSSE) at Johns Hopkins University\" the url: https://github.com/CSSEGISandData/COVID-19.  \n",
        "# Dashboard https://systems.jhu.edu/research/public-health/ncov/     \n",
        "df_confirmed = pd.read_csv('https://raw.githubusercontent.com/CSSEGISandData/COVID-19/master/csse_covid_19_data/csse_covid_19_time_series/time_series_covid19_confirmed_global.csv')\n",
        "df_deaths = pd.read_csv('https://raw.githubusercontent.com/CSSEGISandData/COVID-19/master/csse_covid_19_data/csse_covid_19_time_series/time_series_covid19_deaths_global.csv')\n",
        "\n",
        "#**** Removed this comment\n",
        "df = pd.read_csv(\"https://raw.githubusercontent.com/CSSEGISandData/COVID-19/web-data/data/cases_country.csv\")\n",
        "df_table = pd.read_csv(\"https://raw.githubusercontent.com/CSSEGISandData/COVID-19/web-data/data/cases_time.csv\",parse_dates=['Last_Update'])"
      ],
      "execution_count": 3,
      "outputs": []
    },
    {
      "cell_type": "code",
      "metadata": {
        "id": "XmY1lGBc5x1N"
      },
      "source": [
        "df.tail(20)"
      ],
      "execution_count": null,
      "outputs": []
    },
    {
      "cell_type": "code",
      "metadata": {
        "id": "PyUJrUtdV6zx"
      },
      "source": [
        "df_deaths.tail(20)"
      ],
      "execution_count": null,
      "outputs": []
    },
    {
      "cell_type": "code",
      "metadata": {
        "id": "pZoGip315_3F"
      },
      "source": [
        "##Renaming columns from the original data set to understandable and easy to use names\n",
        "df.columns=['country',\n",
        "                         'LastUpdate',\n",
        "                         'Lat',\n",
        "                         'Long',\n",
        "                         'Confirmed',\n",
        "                         'Deaths',\n",
        "                         'Recovered',\n",
        "                         'Active',\n",
        "                         'IncidentRate',\n",
        "                         'PeopleTested',\n",
        "                         'PeopleHospit',\n",
        "                         'MortalityRate',\n",
        "                         'UID',\n",
        "                         'abr']"
      ],
      "execution_count": 5,
      "outputs": []
    },
    {
      "cell_type": "code",
      "metadata": {
        "id": "w7t-jSpm6Dip",
        "colab": {
          "base_uri": "https://localhost:8080/"
        },
        "outputId": "c0a9737d-b66e-4945-84d2-34602d520a5e"
      },
      "source": [
        "df.columns"
      ],
      "execution_count": 6,
      "outputs": [
        {
          "output_type": "execute_result",
          "data": {
            "text/plain": [
              "Index(['country', 'LastUpdate', 'Lat', 'Long', 'Confirmed', 'Deaths',\n",
              "       'Recovered', 'Active', 'IncidentRate', 'PeopleTested', 'PeopleHospit',\n",
              "       'MortalityRate', 'UID', 'abr'],\n",
              "      dtype='object')"
            ]
          },
          "metadata": {
            "tags": []
          },
          "execution_count": 6
        }
      ]
    },
    {
      "cell_type": "markdown",
      "metadata": {
        "id": "mlM0jPT39pFp"
      },
      "source": [
        "Basic Stats"
      ]
    },
    {
      "cell_type": "code",
      "metadata": {
        "id": "-20Z6DUX6K_T"
      },
      "source": [
        "##Visualize the main statistical features in the data set, for example mean, median, mode, and quartile breakdown of all of the features\n",
        "##in the data set\n",
        "df.describe()"
      ],
      "execution_count": null,
      "outputs": []
    },
    {
      "cell_type": "code",
      "metadata": {
        "id": "T-i7_KID6RIG",
        "colab": {
          "base_uri": "https://localhost:8080/"
        },
        "outputId": "da6299dd-bf24-417b-8f25-4d1a157d2665"
      },
      "source": [
        "##Number of deaths by quartile (25%,50%, and 75%)\n",
        "df.Deaths.quantile([.25,.5,.75])"
      ],
      "execution_count": null,
      "outputs": [
        {
          "output_type": "execute_result",
          "data": {
            "text/plain": [
              "0.25      79.0\n",
              "0.50     612.0\n",
              "0.75    4259.5\n",
              "Name: Deaths, dtype: float64"
            ]
          },
          "metadata": {
            "tags": []
          },
          "execution_count": 18
        }
      ]
    },
    {
      "cell_type": "code",
      "metadata": {
        "id": "FSvdt0oc6gUi",
        "colab": {
          "base_uri": "https://localhost:8080/"
        },
        "outputId": "a5f2203c-9025-4d06-df96-6d40b9ac9693"
      },
      "source": [
        "##Finding the minimum, maximum, and mean value of deaths across the data set\n",
        "df.Deaths.agg(['min','max','mean'])"
      ],
      "execution_count": null,
      "outputs": [
        {
          "output_type": "execute_result",
          "data": {
            "text/plain": [
              "min          0.000000\n",
              "max     397672.000000\n",
              "mean     10647.335079\n",
              "Name: Deaths, dtype: float64"
            ]
          },
          "metadata": {
            "tags": []
          },
          "execution_count": 19
        }
      ]
    },
    {
      "cell_type": "code",
      "metadata": {
        "id": "bjtLkxjQ8rVN",
        "colab": {
          "base_uri": "https://localhost:8080/"
        },
        "outputId": "950623f3-fa48-4b11-8f41-539c871a955c"
      },
      "source": [
        "##Identifying the correlation number between deaths and patients who recovered\n",
        "df.Deaths.corr(df.Recovered)"
      ],
      "execution_count": null,
      "outputs": [
        {
          "output_type": "execute_result",
          "data": {
            "text/plain": [
              "0.8206931273525464"
            ]
          },
          "metadata": {
            "tags": []
          },
          "execution_count": 20
        }
      ]
    },
    {
      "cell_type": "markdown",
      "metadata": {
        "id": "qXhRDl7j9346"
      },
      "source": [
        "Plotting"
      ]
    },
    {
      "cell_type": "code",
      "metadata": {
        "id": "DDZI-KjTDiE6"
      },
      "source": [
        "##Creating a new dataframe without longitude, latitude, and last update data\n",
        "##Setting the index of the new datafram to the country name\n",
        "##Dropping the feature of Country name from the column header\n",
        "df_country_cases = df.copy().drop(['Lat','Long','LastUpdate'],axis=1)\n",
        "df_country_cases.index = df_country_cases[\"Country\"]\n",
        "df_country_cases = df_country_cases.drop(['Country'],axis=1)"
      ],
      "execution_count": null,
      "outputs": []
    },
    {
      "cell_type": "code",
      "metadata": {
        "id": "w8sSWi4LDmP3"
      },
      "source": [
        "##Creating a bar chart of the top 5 countries based on confirmed cases\n",
        "##Setting the title of the table along with x and y axis labels to clearly show the given data\n",
        "f = plt.figure(figsize=(10,5))\n",
        "f.add_subplot(111)\n",
        "plt.axes(axisbelow=True)\n",
        "plt.barh(df_country_cases.sort_values('Confirmed')[\"Confirmed\"]\n",
        "         .index[-5:],df_country_cases.sort_values('Confirmed')[\"Confirmed\"]\n",
        "         .values[-5:],color='RGB')\n",
        "plt.xlabel(\"Confirmed Cases\",fontsize=16)\n",
        "plt.ylabel(\"Countries\",fontsize=16)\n",
        "plt.title(\"Top 5 Countries w/ Confirmed Cases\",fontsize=20)\n",
        "plt.grid(alpha=0.3)"
      ],
      "execution_count": null,
      "outputs": []
    },
    {
      "cell_type": "code",
      "metadata": {
        "id": "pDHyZuQjEX32"
      },
      "source": [
        "##Creating a bar chart of the top 5 countries with the most deaths\n",
        "d = plt.figure(figsize=(10,5))\n",
        "d.add_subplot(111)\n",
        "plt.axes(axisbelow=True)\n",
        "plt.barh(df_country_cases.sort_values('Deaths')[\"Deaths\"]\n",
        "         .index[-5:],df_country_cases.sort_values('Deaths')[\"Deaths\"]\n",
        "         .values[-5:],color='darkblue')\n",
        "plt.xlabel(\"Deaths\",fontsize=16)\n",
        "plt.title(\"Top 5 Countries w/ most Deaths\",fontsize=20)\n",
        "plt.grid(alpha=0.3)"
      ],
      "execution_count": null,
      "outputs": []
    },
    {
      "cell_type": "code",
      "metadata": {
        "id": "dX8apQ52FDGd"
      },
      "source": [
        "##Creating a bar chart of the top 5 countries with the most number of active cases\n",
        "a = plt.figure(figsize=(10,5))\n",
        "a.add_subplot(111)\n",
        "plt.axes(axisbelow=True)\n",
        "plt.barh(df_country_cases.sort_values('Active')[\"Active\"]\n",
        "         .index[-5:],df_country_cases.sort_values('Active')[\"Active\"]\n",
        "         .values[-5:],color='RGB')\n",
        "plt.xlabel(\"Active\",fontsize=16)\n",
        "plt.title(\"Top 5 Countries w/ Most Active Cases\",fontsize=20)\n",
        "plt.grid(alpha=0.3)"
      ],
      "execution_count": null,
      "outputs": []
    },
    {
      "cell_type": "code",
      "metadata": {
        "id": "otnK3W50RcOa"
      },
      "source": [
        "##Creating a visual representation by country of all features in the original data set(excluding lat, long, and last update)\n",
        "##Highlighted values are the largest for each feature\n",
        "df_country_cases[\"Mortality Rate (per 100)\"] = np.round(100*df_country_cases[\"Deaths\"]/df_country_cases[\"Confirmed\"],2)\n",
        "df_country_cases.sort_values('Confirmed', ascending= False).style.background_gradient(cmap='Purples',subset=[\"Confirmed\"])\\\n",
        "                        .background_gradient(cmap='Greens',subset=[\"Deaths\"])\\\n",
        "                        .background_gradient(cmap='Reds',subset=[\"Recovered\"])\\\n",
        "                        .background_gradient(cmap='Blues',subset=[\"Active\"])\\\n",
        "                        .background_gradient(cmap='YlOrBr',subset=[\"Mortality Rate (per 100)\"])"
      ],
      "execution_count": null,
      "outputs": []
    },
    {
      "cell_type": "code",
      "metadata": {
        "id": "1aCk9FfBTXNz"
      },
      "source": [
        "df_country_cases.iloc[:,:-1].corr(method='kendall').style.background_gradient(cmap='coolwarm')"
      ],
      "execution_count": null,
      "outputs": []
    },
    {
      "cell_type": "code",
      "metadata": {
        "id": "Y4w-vJdjWkES"
      },
      "source": [
        "##Replacing Nan values in the location feature with null values\n",
        "df_confirmed= df_confirmed.replace(np.nan,'',regex= True)\n",
        "df_deaths= df_deaths.replace(np.nan,'',regex=True)"
      ],
      "execution_count": null,
      "outputs": []
    },
    {
      "cell_type": "code",
      "metadata": {
        "id": "xfhCyEw4VnYi"
      },
      "source": [
        "##Creating a world map view where users are able to hover over locations and retrieve Covid-19 data based on region\n",
        "##Some regions are not applicable *working on this*\n",
        "world_map = folium.Map(location=[10,0], tiles=\"cartodbpositron\", zoom_start=2,max_zoom=6,min_zoom=2)\n",
        "for i in range(0,len(df_confirmed)):\n",
        "    folium.Circle(\n",
        "        location=[df_confirmed.iloc[i]['Lat'], df_confirmed.iloc[i]['Long']],\n",
        "        tooltip = \"<h5 style='text-align:center;font-weight: bold'>\"+df_confirmed.iloc[i]['Country/Region']+\"</h5>\"+\n",
        "                    \"<div style='text-align:center;'>\"+str(np.nan_to_num(df_confirmed.iloc[i]['Province/State']))+\"</div>\"+\n",
        "                    \"<hr style='margin:10px;'>\"+\n",
        "                    \"<ul style='color: #444;list-style-type:circle;align-item:left;padding-left:20px;padding-right:20px'>\"+\n",
        "        \"<li>Confirmed: \"+str(df_confirmed.iloc[i,-1])+\"</li>\"+\n",
        "        \"<li>Deaths:   \"+str(df_deaths.iloc[i,-1])+\"</li>\"+\n",
        "        \"<li>Mortality Rate:   \"+str(np.round(df_deaths.iloc[i,-1]/(df_confirmed.iloc[i,-1]+1.00001)*100,2))+\"</li>\"+\n",
        "        \"</ul>\"\n",
        "        ,\n",
        "        radius=(int((np.log(df_confirmed.iloc[i,-1]+1.00001)))+0.2)*50000,\n",
        "        color='# ff6600',\n",
        "        fill_color='#ff8533',\n",
        "        fill=True).add_to(world_map)\n",
        "\n",
        "world_map\n"
      ],
      "execution_count": null,
      "outputs": []
    },
    {
      "cell_type": "markdown",
      "metadata": {
        "id": "yA4NvSQIaEWB"
      },
      "source": [
        "Filtering"
      ]
    },
    {
      "cell_type": "code",
      "metadata": {
        "id": "zO1cZIcBZpp0"
      },
      "source": [
        "##Filtering the data by number of deaths greater than a certain value\n",
        "df[df.Deaths >= 20000]"
      ],
      "execution_count": null,
      "outputs": []
    },
    {
      "cell_type": "code",
      "metadata": {
        "id": "FmaIe8RiaNWN"
      },
      "source": [
        "##Filtering the data by the number of confimed cases greater than a certain value\n",
        "df[df.Confirmed >=5000000 ]"
      ],
      "execution_count": null,
      "outputs": []
    },
    {
      "cell_type": "code",
      "metadata": {
        "id": "6auyg8q4aXM8"
      },
      "source": [
        "##Combining filters to create a conditional statement satisfying both commands\n",
        "df[(df.Deaths >= 20000) & (df.Confirmed >=5000000)]"
      ],
      "execution_count": null,
      "outputs": []
    },
    {
      "cell_type": "code",
      "metadata": {
        "colab": {
          "base_uri": "https://localhost:8080/"
        },
        "id": "AcmSgKdFZbki",
        "outputId": "1a3050d1-fab2-45f3-bd9e-a6b466c99dc3"
      },
      "source": [
        "df.columns"
      ],
      "execution_count": 9,
      "outputs": [
        {
          "output_type": "execute_result",
          "data": {
            "text/plain": [
              "Index(['country', 'LastUpdate', 'Lat', 'Long', 'Confirmed', 'Deaths',\n",
              "       'Recovered', 'Active', 'IncidentRate', 'PeopleTested', 'PeopleHospit',\n",
              "       'MortalityRate', 'UID', 'abr'],\n",
              "      dtype='object')"
            ]
          },
          "metadata": {
            "tags": []
          },
          "execution_count": 9
        }
      ]
    },
    {
      "cell_type": "markdown",
      "metadata": {
        "id": "x-xmZL5vd2G8"
      },
      "source": [
        "Grouping using Groupby\n"
      ]
    },
    {
      "cell_type": "code",
      "metadata": {
        "id": "_pThiqx2gvaY"
      },
      "source": [
        "df_covid19 =df\n",
        "df_confirmed = df_confirmed.rename(columns={\"Province/State\":\"state\",\"Country/Region\": \"country\"})\n",
        "df_deaths = df_deaths.rename(columns={\"Province/State\":\"state\",\"Country/Region\": \"country\"})\n",
        "#df_covid19 = df_covid19.rename(columns={\"Country\": \"country\"})\n",
        "df_covid19[\"Active\"] = df_covid19[\"Confirmed\"]-df_covid19[\"Recovered\"]-df_covid19[\"Deaths\"]\n",
        "# df_recovered = df_recovered.rename(columns={\"Province/State\":\"state\",\"Country/Region\": \"country\"})"
      ],
      "execution_count": 10,
      "outputs": []
    },
    {
      "cell_type": "code",
      "metadata": {
        "colab": {
          "base_uri": "https://localhost:8080/"
        },
        "id": "jBpHA9ybhZPz",
        "outputId": "e05d87b9-a9c2-4d63-9b70-6cd0be8c7f05"
      },
      "source": [
        "df.columns"
      ],
      "execution_count": 11,
      "outputs": [
        {
          "output_type": "execute_result",
          "data": {
            "text/plain": [
              "Index(['country', 'LastUpdate', 'Lat', 'Long', 'Confirmed', 'Deaths',\n",
              "       'Recovered', 'Active', 'IncidentRate', 'PeopleTested', 'PeopleHospit',\n",
              "       'MortalityRate', 'UID', 'abr'],\n",
              "      dtype='object')"
            ]
          },
          "metadata": {
            "tags": []
          },
          "execution_count": 11
        }
      ]
    },
    {
      "cell_type": "code",
      "metadata": {
        "id": "CQMDCqzgfzCr"
      },
      "source": [
        "# Changing the conuntry names as required by pycountry_convert Lib\n",
        "df_confirmed.loc[df_confirmed['country'] == \"US\", \"country\"] = \"USA\"\n",
        "df_deaths.loc[df_deaths['country'] == \"US\", \"country\"] = \"USA\"\n",
        "df_covid19.loc[df_covid19['country'] == \"US\", \"country\"] = \"USA\"\n",
        "df_table.loc[df_table['Country_Region'] == \"US\", \"Country_Region\"] = \"USA\"\n",
        "# df_recovered.loc[df_recovered['country'] == \"US\", \"country\"] = \"USA\"\n",
        "\n",
        "\n",
        "df_confirmed.loc[df_confirmed['country'] == 'Korea, South', \"country\"] = 'South Korea'\n",
        "df_deaths.loc[df_deaths['country'] == 'Korea, South', \"country\"] = 'South Korea'\n",
        "df_covid19.loc[df_covid19['country'] == \"Korea, South\", \"country\"] = \"South Korea\"\n",
        "df_table.loc[df_table['Country_Region'] == \"Korea, South\", \"Country_Region\"] = \"South Korea\"\n",
        "# df_recovered.loc[df_recovered['country'] == 'Korea, South', \"country\"] = 'South Korea'\n",
        "\n",
        "df_confirmed.loc[df_confirmed['country'] == 'Taiwan*', \"country\"] = 'Taiwan'\n",
        "df_deaths.loc[df_deaths['country'] == 'Taiwan*', \"country\"] = 'Taiwan'\n",
        "df_covid19.loc[df_covid19['country'] == \"Taiwan*\", \"country\"] = \"Taiwan\"\n",
        "df_table.loc[df_table['Country_Region'] == \"Taiwan*\", \"Country_Region\"] = \"Taiwan\"\n",
        "# df_recovered.loc[df_recovered['country'] == 'Taiwan*', \"country\"] = 'Taiwan'\n",
        "\n",
        "df_confirmed.loc[df_confirmed['country'] == 'Congo (Kinshasa)', \"country\"] = 'Democratic Republic of the Congo'\n",
        "df_deaths.loc[df_deaths['country'] == 'Congo (Kinshasa)', \"country\"] = 'Democratic Republic of the Congo'\n",
        "df_covid19.loc[df_covid19['country'] == \"Congo (Kinshasa)\", \"country\"] = \"Democratic Republic of the Congo\"\n",
        "df_table.loc[df_table['Country_Region'] == \"Congo (Kinshasa)\", \"Country_Region\"] = \"Democratic Republic of the Congo\"\n",
        "# df_recovered.loc[df_recovered['country'] == 'Congo (Kinshasa)', \"country\"] = 'Democratic Republic of the Congo'\n",
        "\n",
        "df_confirmed.loc[df_confirmed['country'] == \"Cote d'Ivoire\", \"country\"] = \"Côte d'Ivoire\"\n",
        "df_deaths.loc[df_deaths['country'] == \"Cote d'Ivoire\", \"country\"] = \"Côte d'Ivoire\"\n",
        "df_covid19.loc[df_covid19['country'] == \"Cote d'Ivoire\", \"country\"] = \"Côte d'Ivoire\"\n",
        "df_table.loc[df_table['Country_Region'] == \"Cote d'Ivoire\", \"Country_Region\"] = \"Côte d'Ivoire\"\n",
        "# df_recovered.loc[df_recovered['country'] == \"Cote d'Ivoire\", \"country\"] = \"Côte d'Ivoire\"\n",
        "\n",
        "df_confirmed.loc[df_confirmed['country'] == \"Reunion\", \"country\"] = \"Réunion\"\n",
        "df_deaths.loc[df_deaths['country'] == \"Reunion\", \"country\"] = \"Réunion\"\n",
        "df_covid19.loc[df_covid19['country'] == \"Reunion\", \"country\"] = \"Réunion\"\n",
        "df_table.loc[df_table['Country_Region'] == \"Reunion\", \"Country_Region\"] = \"Réunion\"\n",
        "# df_recovered.loc[df_recovered['country'] == \"Reunion\", \"country\"] = \"Réunion\"\n",
        "\n",
        "df_confirmed.loc[df_confirmed['country'] == 'Congo (Brazzaville)', \"country\"] = 'Republic of the Congo'\n",
        "df_deaths.loc[df_deaths['country'] == 'Congo (Brazzaville)', \"country\"] = 'Republic of the Congo'\n",
        "df_covid19.loc[df_covid19['country'] == \"Congo (Brazzaville)\", \"country\"] = \"Republic of the Congo\"\n",
        "df_table.loc[df_table['Country_Region'] == \"Congo (Brazzaville)\", \"Country_Region\"] = \"Republic of the Congo\"\n",
        "# df_recovered.loc[df_recovered['country'] == 'Congo (Brazzaville)', \"country\"] = 'Republic of the Congo'\n",
        "\n",
        "df_confirmed.loc[df_confirmed['country'] == 'Bahamas, The', \"country\"] = 'Bahamas'\n",
        "df_deaths.loc[df_deaths['country'] == 'Bahamas, The', \"country\"] = 'Bahamas'\n",
        "df_covid19.loc[df_covid19['country'] == \"Bahamas, The\", \"country\"] = \"Bahamas\"\n",
        "df_table.loc[df_table['Country_Region'] == \"Bahamas, The\", \"Country_Region\"] = \"Bahamas\"\n",
        "# df_recovered.loc[df_recovered['country'] == 'Bahamas, The', \"country\"] = 'Bahamas'\n",
        "\n",
        "df_confirmed.loc[df_confirmed['country'] == 'Gambia, The', \"country\"] = 'Gambia'\n",
        "df_deaths.loc[df_deaths['country'] == 'Gambia, The', \"country\"] = 'Gambia'\n",
        "df_covid19.loc[df_covid19['country'] == \"Gambia, The\", \"country\"] = \"Gambia\"\n",
        "df_table.loc[df_table['Country_Region'] == \"Gambia\", \"Country_Region\"] = \"Gambia\"\n",
        "# df_recovered.loc[df_recovered['country'] == 'Gambia, The', \"country\"] = 'Gambia'\n",
        "\n",
        "# getting all countries\n",
        "countries = np.asarray(df_confirmed[\"country\"])\n",
        "countries1 = np.asarray(df_covid19[\"country\"])\n",
        "# Continent_code to Continent_names\n",
        "continents = {\n",
        "    'NA': 'North America',\n",
        "    'SA': 'South America', \n",
        "    'AS': 'Asia',\n",
        "    'OC': 'Australia',\n",
        "    'AF': 'Africa',\n",
        "    'EU' : 'Europe',\n",
        "    'na' : 'Others'\n",
        "}\n",
        "\n",
        "# Defininng Function for getting continent code for country.\n",
        "def country_to_continent_code(country):\n",
        "    try:\n",
        "        return pc.country_alpha2_to_continent_code(pc.country_name_to_country_alpha2(country))\n",
        "    except :\n",
        "        return 'na'\n",
        "\n",
        "#Collecting Continent Information\n",
        "df_confirmed.insert(2,\"continent\", [continents[country_to_continent_code(country)] for country in countries[:]])\n",
        "df_deaths.insert(2,\"continent\",  [continents[country_to_continent_code(country)] for country in countries[:]])\n",
        "df_covid19.insert(1,\"continent\",  [continents[country_to_continent_code(country)] for country in countries1[:]])\n",
        "df_table.insert(1,\"continent\",  [continents[country_to_continent_code(country)] for country in df_table[\"Country_Region\"].values])\n",
        "# df_recovered.insert(2,\"continent\",  [continents[country_to_continent_code(country)] for country in countries[:]] )   "
      ],
      "execution_count": 12,
      "outputs": []
    },
    {
      "cell_type": "code",
      "metadata": {
        "id": "ioA8GqRJiFTX"
      },
      "source": [
        "df_continents_cases = df_covid19.copy().drop(['Lat','Long','country','LastUpdate'],axis =1)\n",
        "df_continents_cases = df_continents_cases.groupby([\"continent\"]).sum()"
      ],
      "execution_count": 13,
      "outputs": []
    },
    {
      "cell_type": "code",
      "metadata": {
        "colab": {
          "base_uri": "https://localhost:8080/",
          "height": 207
        },
        "id": "nvQV2Z1XinD9",
        "outputId": "0cfb98aa-c70a-47e3-d1ae-06dd1b79b336"
      },
      "source": [
        "df_continents_cases[\"Mortality Rate (per 100)\"] = np.round(100*df_continents_cases[\"Deaths\"]/df_continents_cases[\"Confirmed\"],2)\n",
        "df_continents_cases.style.background_gradient(cmap='Blues',subset=[\"Confirmed\"])\\\n",
        "                        .background_gradient(cmap='Reds',subset=[\"Deaths\"])\\\n",
        "                        .background_gradient(cmap='Greens',subset=[\"Recovered\"])\\\n",
        "                        .background_gradient(cmap='Purples',subset=[\"Active\"])\\\n",
        "                        .background_gradient(cmap='YlOrBr',subset=[\"Mortality Rate (per 100)\"])"
      ],
      "execution_count": 14,
      "outputs": [
        {
          "output_type": "execute_result",
          "data": {
            "text/html": [
              "<style  type=\"text/css\" >\n",
              "#T_5291592a_59d4_11eb_839d_0242ac1c0002row0_col0{\n",
              "            background-color:  #e0ecf8;\n",
              "            color:  #000000;\n",
              "        }#T_5291592a_59d4_11eb_839d_0242ac1c0002row0_col1{\n",
              "            background-color:  #fee1d3;\n",
              "            color:  #000000;\n",
              "        }#T_5291592a_59d4_11eb_839d_0242ac1c0002row0_col2,#T_5291592a_59d4_11eb_839d_0242ac1c0002row4_col2{\n",
              "            background-color:  #e4f5df;\n",
              "            color:  #000000;\n",
              "        }#T_5291592a_59d4_11eb_839d_0242ac1c0002row0_col3{\n",
              "            background-color:  #f8f7fa;\n",
              "            color:  #000000;\n",
              "        }#T_5291592a_59d4_11eb_839d_0242ac1c0002row0_col9{\n",
              "            background-color:  #f07818;\n",
              "            color:  #000000;\n",
              "        }#T_5291592a_59d4_11eb_839d_0242ac1c0002row1_col0{\n",
              "            background-color:  #1967ad;\n",
              "            color:  #f1f1f1;\n",
              "        }#T_5291592a_59d4_11eb_839d_0242ac1c0002row1_col1{\n",
              "            background-color:  #f5533b;\n",
              "            color:  #000000;\n",
              "        }#T_5291592a_59d4_11eb_839d_0242ac1c0002row1_col2{\n",
              "            background-color:  #00441b;\n",
              "            color:  #f1f1f1;\n",
              "        }#T_5291592a_59d4_11eb_839d_0242ac1c0002row1_col3,#T_5291592a_59d4_11eb_839d_0242ac1c0002row6_col3{\n",
              "            background-color:  #f2f0f7;\n",
              "            color:  #000000;\n",
              "        }#T_5291592a_59d4_11eb_839d_0242ac1c0002row1_col9{\n",
              "            background-color:  #ffffe5;\n",
              "            color:  #000000;\n",
              "        }#T_5291592a_59d4_11eb_839d_0242ac1c0002row2_col0{\n",
              "            background-color:  #f7fbff;\n",
              "            color:  #000000;\n",
              "        }#T_5291592a_59d4_11eb_839d_0242ac1c0002row2_col1{\n",
              "            background-color:  #fff5f0;\n",
              "            color:  #000000;\n",
              "        }#T_5291592a_59d4_11eb_839d_0242ac1c0002row2_col2{\n",
              "            background-color:  #f7fcf5;\n",
              "            color:  #000000;\n",
              "        }#T_5291592a_59d4_11eb_839d_0242ac1c0002row2_col3,#T_5291592a_59d4_11eb_839d_0242ac1c0002row5_col3{\n",
              "            background-color:  #fcfbfd;\n",
              "            color:  #000000;\n",
              "        }#T_5291592a_59d4_11eb_839d_0242ac1c0002row2_col9{\n",
              "            background-color:  #662506;\n",
              "            color:  #f1f1f1;\n",
              "        }#T_5291592a_59d4_11eb_839d_0242ac1c0002row3_col0{\n",
              "            background-color:  #08306b;\n",
              "            color:  #f1f1f1;\n",
              "        }#T_5291592a_59d4_11eb_839d_0242ac1c0002row3_col1{\n",
              "            background-color:  #67000d;\n",
              "            color:  #f1f1f1;\n",
              "        }#T_5291592a_59d4_11eb_839d_0242ac1c0002row3_col2{\n",
              "            background-color:  #38a156;\n",
              "            color:  #000000;\n",
              "        }#T_5291592a_59d4_11eb_839d_0242ac1c0002row3_col3{\n",
              "            background-color:  #3f007d;\n",
              "            color:  #f1f1f1;\n",
              "        }#T_5291592a_59d4_11eb_839d_0242ac1c0002row3_col9{\n",
              "            background-color:  #fe9c2c;\n",
              "            color:  #000000;\n",
              "        }#T_5291592a_59d4_11eb_839d_0242ac1c0002row4_col0{\n",
              "            background-color:  #08326e;\n",
              "            color:  #f1f1f1;\n",
              "        }#T_5291592a_59d4_11eb_839d_0242ac1c0002row4_col1{\n",
              "            background-color:  #900a12;\n",
              "            color:  #f1f1f1;\n",
              "        }#T_5291592a_59d4_11eb_839d_0242ac1c0002row4_col3{\n",
              "            background-color:  #f7f6fa;\n",
              "            color:  #000000;\n",
              "        }#T_5291592a_59d4_11eb_839d_0242ac1c0002row4_col9{\n",
              "            background-color:  #fec652;\n",
              "            color:  #000000;\n",
              "        }#T_5291592a_59d4_11eb_839d_0242ac1c0002row5_col0{\n",
              "            background-color:  #f5fafe;\n",
              "            color:  #000000;\n",
              "        }#T_5291592a_59d4_11eb_839d_0242ac1c0002row5_col1{\n",
              "            background-color:  #fff4ee;\n",
              "            color:  #000000;\n",
              "        }#T_5291592a_59d4_11eb_839d_0242ac1c0002row5_col2{\n",
              "            background-color:  #f5fbf3;\n",
              "            color:  #000000;\n",
              "        }#T_5291592a_59d4_11eb_839d_0242ac1c0002row5_col9{\n",
              "            background-color:  #fff7bc;\n",
              "            color:  #000000;\n",
              "        }#T_5291592a_59d4_11eb_839d_0242ac1c0002row6_col0{\n",
              "            background-color:  #63a8d3;\n",
              "            color:  #000000;\n",
              "        }#T_5291592a_59d4_11eb_839d_0242ac1c0002row6_col1{\n",
              "            background-color:  #f03f2e;\n",
              "            color:  #f1f1f1;\n",
              "        }#T_5291592a_59d4_11eb_839d_0242ac1c0002row6_col2{\n",
              "            background-color:  #3da65a;\n",
              "            color:  #000000;\n",
              "        }#T_5291592a_59d4_11eb_839d_0242ac1c0002row6_col9{\n",
              "            background-color:  #c34802;\n",
              "            color:  #f1f1f1;\n",
              "        }</style><table id=\"T_5291592a_59d4_11eb_839d_0242ac1c0002\" ><thead>    <tr>        <th class=\"blank level0\" ></th>        <th class=\"col_heading level0 col0\" >Confirmed</th>        <th class=\"col_heading level0 col1\" >Deaths</th>        <th class=\"col_heading level0 col2\" >Recovered</th>        <th class=\"col_heading level0 col3\" >Active</th>        <th class=\"col_heading level0 col4\" >IncidentRate</th>        <th class=\"col_heading level0 col5\" >PeopleTested</th>        <th class=\"col_heading level0 col6\" >PeopleHospit</th>        <th class=\"col_heading level0 col7\" >MortalityRate</th>        <th class=\"col_heading level0 col8\" >UID</th>        <th class=\"col_heading level0 col9\" >Mortality Rate (per 100)</th>    </tr>    <tr>        <th class=\"index_name level0\" >continent</th>        <th class=\"blank\" ></th>        <th class=\"blank\" ></th>        <th class=\"blank\" ></th>        <th class=\"blank\" ></th>        <th class=\"blank\" ></th>        <th class=\"blank\" ></th>        <th class=\"blank\" ></th>        <th class=\"blank\" ></th>        <th class=\"blank\" ></th>        <th class=\"blank\" ></th>    </tr></thead><tbody>\n",
              "                <tr>\n",
              "                        <th id=\"T_5291592a_59d4_11eb_839d_0242ac1c0002level0_row0\" class=\"row_heading level0 row0\" >Africa</th>\n",
              "                        <td id=\"T_5291592a_59d4_11eb_839d_0242ac1c0002row0_col0\" class=\"data row0 col0\" >3266725.000000</td>\n",
              "                        <td id=\"T_5291592a_59d4_11eb_839d_0242ac1c0002row0_col1\" class=\"data row0 col1\" >79034.000000</td>\n",
              "                        <td id=\"T_5291592a_59d4_11eb_839d_0242ac1c0002row0_col2\" class=\"data row0 col2\" >2680401.000000</td>\n",
              "                        <td id=\"T_5291592a_59d4_11eb_839d_0242ac1c0002row0_col3\" class=\"data row0 col3\" >507290.000000</td>\n",
              "                        <td id=\"T_5291592a_59d4_11eb_839d_0242ac1c0002row0_col4\" class=\"data row0 col4\" >18805.749025</td>\n",
              "                        <td id=\"T_5291592a_59d4_11eb_839d_0242ac1c0002row0_col5\" class=\"data row0 col5\" >0.000000</td>\n",
              "                        <td id=\"T_5291592a_59d4_11eb_839d_0242ac1c0002row0_col6\" class=\"data row0 col6\" >0.000000</td>\n",
              "                        <td id=\"T_5291592a_59d4_11eb_839d_0242ac1c0002row0_col7\" class=\"data row0 col7\" >108.145579</td>\n",
              "                        <td id=\"T_5291592a_59d4_11eb_839d_0242ac1c0002row0_col8\" class=\"data row0 col8\" >24764</td>\n",
              "                        <td id=\"T_5291592a_59d4_11eb_839d_0242ac1c0002row0_col9\" class=\"data row0 col9\" >2.420000</td>\n",
              "            </tr>\n",
              "            <tr>\n",
              "                        <th id=\"T_5291592a_59d4_11eb_839d_0242ac1c0002level0_row1\" class=\"row_heading level0 row1\" >Asia</th>\n",
              "                        <td id=\"T_5291592a_59d4_11eb_839d_0242ac1c0002row1_col0\" class=\"data row1 col0\" >21874905.000000</td>\n",
              "                        <td id=\"T_5291592a_59d4_11eb_839d_0242ac1c0002row1_col1\" class=\"data row1 col1\" >353215.000000</td>\n",
              "                        <td id=\"T_5291592a_59d4_11eb_839d_0242ac1c0002row1_col2\" class=\"data row1 col2\" >20300422.000000</td>\n",
              "                        <td id=\"T_5291592a_59d4_11eb_839d_0242ac1c0002row1_col3\" class=\"data row1 col3\" >1221268.000000</td>\n",
              "                        <td id=\"T_5291592a_59d4_11eb_839d_0242ac1c0002row1_col4\" class=\"data row1 col4\" >67578.700782</td>\n",
              "                        <td id=\"T_5291592a_59d4_11eb_839d_0242ac1c0002row1_col5\" class=\"data row1 col5\" >0.000000</td>\n",
              "                        <td id=\"T_5291592a_59d4_11eb_839d_0242ac1c0002row1_col6\" class=\"data row1 col6\" >0.000000</td>\n",
              "                        <td id=\"T_5291592a_59d4_11eb_839d_0242ac1c0002row1_col7\" class=\"data row1 col7\" >89.035325</td>\n",
              "                        <td id=\"T_5291592a_59d4_11eb_839d_0242ac1c0002row1_col8\" class=\"data row1 col8\" >18454</td>\n",
              "                        <td id=\"T_5291592a_59d4_11eb_839d_0242ac1c0002row1_col9\" class=\"data row1 col9\" >1.610000</td>\n",
              "            </tr>\n",
              "            <tr>\n",
              "                        <th id=\"T_5291592a_59d4_11eb_839d_0242ac1c0002level0_row2\" class=\"row_heading level0 row2\" >Australia</th>\n",
              "                        <td id=\"T_5291592a_59d4_11eb_839d_0242ac1c0002row2_col0\" class=\"data row2 col0\" >31896.000000</td>\n",
              "                        <td id=\"T_5291592a_59d4_11eb_839d_0242ac1c0002row2_col1\" class=\"data row2 col1\" >945.000000</td>\n",
              "                        <td id=\"T_5291592a_59d4_11eb_839d_0242ac1c0002row2_col2\" class=\"data row2 col2\" >28900.000000</td>\n",
              "                        <td id=\"T_5291592a_59d4_11eb_839d_0242ac1c0002row2_col3\" class=\"data row2 col3\" >2051.000000</td>\n",
              "                        <td id=\"T_5291592a_59d4_11eb_839d_0242ac1c0002row2_col4\" class=\"data row2 col4\" >185.987398</td>\n",
              "                        <td id=\"T_5291592a_59d4_11eb_839d_0242ac1c0002row2_col5\" class=\"data row2 col5\" >0.000000</td>\n",
              "                        <td id=\"T_5291592a_59d4_11eb_839d_0242ac1c0002row2_col6\" class=\"data row2 col6\" >0.000000</td>\n",
              "                        <td id=\"T_5291592a_59d4_11eb_839d_0242ac1c0002row2_col7\" class=\"data row2 col7\" >8.985649</td>\n",
              "                        <td id=\"T_5291592a_59d4_11eb_839d_0242ac1c0002row2_col8\" class=\"data row2 col8\" >3534</td>\n",
              "                        <td id=\"T_5291592a_59d4_11eb_839d_0242ac1c0002row2_col9\" class=\"data row2 col9\" >2.960000</td>\n",
              "            </tr>\n",
              "            <tr>\n",
              "                        <th id=\"T_5291592a_59d4_11eb_839d_0242ac1c0002level0_row3\" class=\"row_heading level0 row3\" >Europe</th>\n",
              "                        <td id=\"T_5291592a_59d4_11eb_839d_0242ac1c0002row3_col0\" class=\"data row3 col0\" >27776394.000000</td>\n",
              "                        <td id=\"T_5291592a_59d4_11eb_839d_0242ac1c0002row3_col1\" class=\"data row3 col1\" >630277.000000</td>\n",
              "                        <td id=\"T_5291592a_59d4_11eb_839d_0242ac1c0002row3_col2\" class=\"data row3 col2\" >13443936.000000</td>\n",
              "                        <td id=\"T_5291592a_59d4_11eb_839d_0242ac1c0002row3_col3\" class=\"data row3 col3\" >12160274.000000</td>\n",
              "                        <td id=\"T_5291592a_59d4_11eb_839d_0242ac1c0002row3_col4\" class=\"data row3 col4\" >191601.650850</td>\n",
              "                        <td id=\"T_5291592a_59d4_11eb_839d_0242ac1c0002row3_col5\" class=\"data row3 col5\" >0.000000</td>\n",
              "                        <td id=\"T_5291592a_59d4_11eb_839d_0242ac1c0002row3_col6\" class=\"data row3 col6\" >0.000000</td>\n",
              "                        <td id=\"T_5291592a_59d4_11eb_839d_0242ac1c0002row3_col7\" class=\"data row3 col7\" >83.445672</td>\n",
              "                        <td id=\"T_5291592a_59d4_11eb_839d_0242ac1c0002row3_col8\" class=\"data row3 col8\" >18538</td>\n",
              "                        <td id=\"T_5291592a_59d4_11eb_839d_0242ac1c0002row3_col9\" class=\"data row3 col9\" >2.270000</td>\n",
              "            </tr>\n",
              "            <tr>\n",
              "                        <th id=\"T_5291592a_59d4_11eb_839d_0242ac1c0002level0_row4\" class=\"row_heading level0 row4\" >North America</th>\n",
              "                        <td id=\"T_5291592a_59d4_11eb_839d_0242ac1c0002row4_col0\" class=\"data row4 col0\" >27484368.000000</td>\n",
              "                        <td id=\"T_5291592a_59d4_11eb_839d_0242ac1c0002row4_col1\" class=\"data row4 col1\" >578549.000000</td>\n",
              "                        <td id=\"T_5291592a_59d4_11eb_839d_0242ac1c0002row4_col2\" class=\"data row4 col2\" >2676177.000000</td>\n",
              "                        <td id=\"T_5291592a_59d4_11eb_839d_0242ac1c0002row4_col3\" class=\"data row4 col3\" >593748.000000</td>\n",
              "                        <td id=\"T_5291592a_59d4_11eb_839d_0242ac1c0002row4_col4\" class=\"data row4 col4\" >33782.598889</td>\n",
              "                        <td id=\"T_5291592a_59d4_11eb_839d_0242ac1c0002row4_col5\" class=\"data row4 col5\" >0.000000</td>\n",
              "                        <td id=\"T_5291592a_59d4_11eb_839d_0242ac1c0002row4_col6\" class=\"data row4 col6\" >0.000000</td>\n",
              "                        <td id=\"T_5291592a_59d4_11eb_839d_0242ac1c0002row4_col7\" class=\"data row4 col7\" >46.464557</td>\n",
              "                        <td id=\"T_5291592a_59d4_11eb_839d_0242ac1c0002row4_col8\" class=\"data row4 col8\" >8292</td>\n",
              "                        <td id=\"T_5291592a_59d4_11eb_839d_0242ac1c0002row4_col9\" class=\"data row4 col9\" >2.110000</td>\n",
              "            </tr>\n",
              "            <tr>\n",
              "                        <th id=\"T_5291592a_59d4_11eb_839d_0242ac1c0002level0_row5\" class=\"row_heading level0 row5\" >Others</th>\n",
              "                        <td id=\"T_5291592a_59d4_11eb_839d_0242ac1c0002row5_col0\" class=\"data row5 col0\" >344001.000000</td>\n",
              "                        <td id=\"T_5291592a_59d4_11eb_839d_0242ac1c0002row5_col1\" class=\"data row5 col1\" >6124.000000</td>\n",
              "                        <td id=\"T_5291592a_59d4_11eb_839d_0242ac1c0002row5_col2\" class=\"data row5 col2\" >308316.000000</td>\n",
              "                        <td id=\"T_5291592a_59d4_11eb_839d_0242ac1c0002row5_col3\" class=\"data row5 col3\" >29561.000000</td>\n",
              "                        <td id=\"T_5291592a_59d4_11eb_839d_0242ac1c0002row5_col4\" class=\"data row5 col4\" >9664.649018</td>\n",
              "                        <td id=\"T_5291592a_59d4_11eb_839d_0242ac1c0002row5_col5\" class=\"data row5 col5\" >0.000000</td>\n",
              "                        <td id=\"T_5291592a_59d4_11eb_839d_0242ac1c0002row5_col6\" class=\"data row5 col6\" >0.000000</td>\n",
              "                        <td id=\"T_5291592a_59d4_11eb_839d_0242ac1c0002row5_col7\" class=\"data row5 col7\" >29.909606</td>\n",
              "                        <td id=\"T_5291592a_59d4_11eb_839d_0242ac1c0002row5_col8\" class=\"data row5 col8\" >20611</td>\n",
              "                        <td id=\"T_5291592a_59d4_11eb_839d_0242ac1c0002row5_col9\" class=\"data row5 col9\" >1.780000</td>\n",
              "            </tr>\n",
              "            <tr>\n",
              "                        <th id=\"T_5291592a_59d4_11eb_839d_0242ac1c0002level0_row6\" class=\"row_heading level0 row6\" >South America</th>\n",
              "                        <td id=\"T_5291592a_59d4_11eb_839d_0242ac1c0002row6_col0\" class=\"data row6 col0\" >14637513.000000</td>\n",
              "                        <td id=\"T_5291592a_59d4_11eb_839d_0242ac1c0002row6_col1\" class=\"data row6 col1\" >388390.000000</td>\n",
              "                        <td id=\"T_5291592a_59d4_11eb_839d_0242ac1c0002row6_col2\" class=\"data row6 col2\" >13064358.000000</td>\n",
              "                        <td id=\"T_5291592a_59d4_11eb_839d_0242ac1c0002row6_col3\" class=\"data row6 col3\" >1184765.000000</td>\n",
              "                        <td id=\"T_5291592a_59d4_11eb_839d_0242ac1c0002row6_col4\" class=\"data row6 col4\" >26608.985319</td>\n",
              "                        <td id=\"T_5291592a_59d4_11eb_839d_0242ac1c0002row6_col5\" class=\"data row6 col5\" >0.000000</td>\n",
              "                        <td id=\"T_5291592a_59d4_11eb_839d_0242ac1c0002row6_col6\" class=\"data row6 col6\" >0.000000</td>\n",
              "                        <td id=\"T_5291592a_59d4_11eb_839d_0242ac1c0002row6_col7\" class=\"data row6 col7\" >33.406304</td>\n",
              "                        <td id=\"T_5291592a_59d4_11eb_839d_0242ac1c0002row6_col8\" class=\"data row6 col8\" >4708</td>\n",
              "                        <td id=\"T_5291592a_59d4_11eb_839d_0242ac1c0002row6_col9\" class=\"data row6 col9\" >2.650000</td>\n",
              "            </tr>\n",
              "    </tbody></table>"
            ],
            "text/plain": [
              "<pandas.io.formats.style.Styler at 0x7f116bb13f98>"
            ]
          },
          "metadata": {
            "tags": []
          },
          "execution_count": 14
        }
      ]
    }
  ]
}
